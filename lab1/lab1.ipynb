{
 "cells": [
  {
   "cell_type": "code",
   "execution_count": 5,
   "metadata": {},
   "outputs": [
    {
     "name": "stdout",
     "output_type": "stream",
     "text": [
      "[0.         0.11111111 0.22222222 0.33333333 0.44444444 0.55555556\n",
      " 0.66666667 0.77777778 0.88888889 1.        ]\n"
     ]
    }
   ],
   "source": [
    "import numpy as np\n",
    "import matplotlib.pyplot as plt\n",
    "from sklearn.preprocessing import StandardScaler\n",
    "sc = StandardScaler()\n",
    "\n",
    "X_train = np.linspace(0.,1.,10) # training set\n",
    "X_valid = np.linspace(0.,1.,100) # validation set\n",
    "#student number is 400318681\n",
    "np.random.seed(8681)\n",
    "\n",
    "t_valid = np.sin(4*np.pi*X_valid) + 0.3 * np.random.randn(100)\n",
    "t_train = np.sin(4*np.pi*X_train) + 0.3 * np.random.randn(10)\n",
    "\n",
    "X_valid_vector = np.array([X_valid]).T\n",
    "X_train_vector = np.array([X_train]).T\n",
    "\n",
    "XX_train = sc.fit_transform(X_train_vector)\n",
    "XX_valid = sc.transform(X_valid_vector)\n",
    "\n",
    "print(XX_train)\n",
    "print(XX_valid)\n"
   ]
  },
  {
   "cell_type": "code",
   "execution_count": 8,
   "metadata": {},
   "outputs": [
    {
     "name": "stdout",
     "output_type": "stream",
     "text": [
      "[-20 -19 -18 -17 -16 -15 -14 -13 -12 -11 -10  -9  -8  -7  -6  -5  -4  -3\n",
      "  -2  -1   0   1   2   3   4   5]\n"
     ]
    }
   ],
   "source": [
    "min = -20\n",
    "max = 5\n",
    "lambdas_value = np.arange(min,max+1)\n",
    "print(lambdas_value)"
   ]
  },
  {
   "cell_type": "code",
   "execution_count": null,
   "metadata": {},
   "outputs": [],
   "source": [
    "#predictor function\n",
    "X_train_feature = np.array([X_train]).T\n",
    "# print((X_train.T))\n",
    "new_col = np.ones(len(X_train))\n",
    "X = np.insert(X_train_feature,0,new_col,axis=1)\n",
    "print(X)\n",
    "print(X.shape)\n"
   ]
  },
  {
   "cell_type": "code",
   "execution_count": null,
   "metadata": {},
   "outputs": [],
   "source": [
    "A = np.dot(X.T,X)\n",
    "A1 = np.linalg.inv(A) #inverse the matrix of A\n",
    "# print(A1)\n",
    "b = np.dot(X.T,t_train)\n",
    "# print(b)\n",
    "\n",
    "w = np.dot(A1,b) \n",
    "print(w)"
   ]
  },
  {
   "cell_type": "code",
   "execution_count": null,
   "metadata": {},
   "outputs": [],
   "source": [
    "y_values = w[0]+w[1] * X_train\n",
    "\n",
    "plt.scatter(X_train,t_train)\n",
    "plt.scatter(X_valid,t_valid)\n",
    "plt.plot(X_train, y_values, color='red', label='Regression Line')\n",
    "plt.axhline([1],color  ='blue',xmin=0.0, xmax=1.0)"
   ]
  },
  {
   "cell_type": "code",
   "execution_count": null,
   "metadata": {},
   "outputs": [],
   "source": [
    "y = np.dot(X,w)\n",
    "diff_train = np.subtract(t_train,y)\n",
    "err_train = np.dot(diff_train,diff_train)/10\n",
    "print(err_train)\n",
    "RMSE_train = np.sqrt(err_train)\n",
    "print(RMSE_train)"
   ]
  },
  {
   "cell_type": "code",
   "execution_count": null,
   "metadata": {},
   "outputs": [],
   "source": [
    "# Create a feature matrix X with a single constant feature (column of ones)\n",
    "\n",
    "t_train_feature = np.array([t_train]).T\n",
    "x = np.mean(t_train)\n",
    "# print(x)\n",
    "\n",
    "t = np.hstack((t_train_feature,t_train_feature **1)) \n",
    "print(t_train_feature,\"\\n\",t)\n"
   ]
  },
  {
   "cell_type": "code",
   "execution_count": 44,
   "metadata": {},
   "outputs": [],
   "source": [
    "import matplotlib.pyplot as plt\n",
    "import numpy as np\n",
    "\n",
    "# Some example data to display\n",
    "x = np.linspace(0, 2 * np.pi, 400)\n",
    "y = np.sin(x ** 2)\n",
    "\n"
   ]
  },
  {
   "cell_type": "code",
   "execution_count": null,
   "metadata": {},
   "outputs": [],
   "source": [
    "t_train_vector = np.array([t_train]).T\n",
    "X_train_vector = np.array([X_train]).T\n",
    "X = X_train_vector\n",
    "new_col = np.ones((len(X_train),1))\n",
    "X = np.hstack((new_col,X,X **2))\n",
    "print(X)\n",
    "A = np.dot(X.T,X)\n",
    "print(A.shape)\n",
    "det_A = np.linalg.det(A)\n",
    "A1 = np.linalg.pinv(A) #i\n",
    "print(A1.shape)\n",
    "b = np.dot(X.T,t_train_vector)\n",
    "# print(b)\n",
    "w = np.dot(A1,b) \n",
    "print(w)"
   ]
  },
  {
   "cell_type": "code",
   "execution_count": null,
   "metadata": {},
   "outputs": [],
   "source": [
    "import numpy as np\n",
    "\n",
    "# Sample training data\n",
    "X_train = np.array([1, 2, 3, 4, 5])  # Example input features\n",
    "t_train = np.array([1, 4, 9, 16, 25])  # Corresponding target values (for a quadratic relationship)\n",
    "\n",
    "# Reshape inputs\n",
    "t_train_vector = t_train.reshape(-1, 1)  # shape (n_samples, 1)\n",
    "X_train_vector = X_train.reshape(-1, 1)  # shape (n_samples, 1)\n",
    "\n",
    "# Create the feature matrix for a second-degree polynomial\n",
    "new_col = np.ones((len(X_train), 1))  # shape (n_samples, 1)\n",
    "X = np.hstack((new_col, X_train_vector, X_train_vector ** 2))  # shape (n_samples, 3)\n",
    "\n",
    "# Calculate the Normal Equation\n",
    "A = np.dot(X.T, X)  # shape (3, 3)\n",
    "A1 = np.linalg.pinv(A)  # Pseudo-inverse of A\n",
    "b = np.dot(X.T, t_train_vector)  # shape (3, 1)\n",
    "\n",
    "# Calculate weights\n",
    "w = np.dot(A1, b)  # shape (3, 1)\n",
    "\n",
    "print(w)\n"
   ]
  },
  {
   "cell_type": "code",
   "execution_count": null,
   "metadata": {},
   "outputs": [],
   "source": [
    "import matplotlib.pyplot as plt\n",
    "y_values = w[0]+w[1] * X_train\n",
    "print(y_values,X_train)\n",
    "# Create a figure with subplots (2 rows, 5 columns for 10 plots)\n",
    "fig, axs = plt.subplots(nrows=2, ncols=5, figsize=(20, 10))\n",
    "axs[0,0].plot(X_train,y_values,color='red')\n",
    "axs[0,1].scatter(X_train,t_train,color='green')\n",
    "\n"
   ]
  },
  {
   "cell_type": "code",
   "execution_count": null,
   "metadata": {},
   "outputs": [],
   "source": [
    "import matplotlib.pyplot as plt\n",
    "import numpy as np\n",
    "\n",
    "# Data for plotting\n",
    "t = np.arange(0.0, 2.0, 0.01)\n",
    "s = 1 + np.sin(2 * np.pi * t)\n",
    "\n",
    "fig, ax = plt.subplots()\n",
    "ax.plot(t, s)\n",
    "\n",
    "ax.set(xlabel='time (s)', ylabel='voltage (mV)',\n",
    "       title='About as simple as it gets, folks')\n",
    "ax.grid()\n",
    "\n",
    "fig.savefig(\"test.png\")\n",
    "plt.show()"
   ]
  },
  {
   "cell_type": "code",
   "execution_count": 4,
   "metadata": {},
   "outputs": [],
   "source": [
    "def init_figure_2():\n",
    "  fig, axs = plt.subplots(nrows=1, ncols=2,sharex=False)\n",
    "  fig.tight_layout(pad=0.5)\n",
    "  fig.legend()\n",
    "  return fig,axs"
   ]
  },
  {
   "cell_type": "code",
   "execution_count": 2,
   "metadata": {},
   "outputs": [
    {
     "name": "stdout",
     "output_type": "stream",
     "text": [
      "[[0.        ]\n",
      " [0.11111111]\n",
      " [0.22222222]\n",
      " [0.33333333]\n",
      " [0.44444444]\n",
      " [0.55555556]\n",
      " [0.66666667]\n",
      " [0.77777778]\n",
      " [0.88888889]\n",
      " [1.        ]]\n",
      "[[-1.5666989 ]\n",
      " [-1.21854359]\n",
      " [-0.87038828]\n",
      " [-0.52223297]\n",
      " [-0.17407766]\n",
      " [ 0.17407766]\n",
      " [ 0.52223297]\n",
      " [ 0.87038828]\n",
      " [ 1.21854359]\n",
      " [ 1.5666989 ]]\n",
      "[[-1.5666989 ]\n",
      " [-1.53504842]\n",
      " [-1.50339794]\n",
      " [-1.47174745]\n",
      " [-1.44009697]\n",
      " [-1.40844649]\n",
      " [-1.37679601]\n",
      " [-1.34514552]\n",
      " [-1.31349504]\n",
      " [-1.28184456]\n",
      " [-1.25019407]\n",
      " [-1.21854359]\n",
      " [-1.18689311]\n",
      " [-1.15524263]\n",
      " [-1.12359214]\n",
      " [-1.09194166]\n",
      " [-1.06029118]\n",
      " [-1.02864069]\n",
      " [-0.99699021]\n",
      " [-0.96533973]\n",
      " [-0.93368925]\n",
      " [-0.90203876]\n",
      " [-0.87038828]\n",
      " [-0.8387378 ]\n",
      " [-0.80708731]\n",
      " [-0.77543683]\n",
      " [-0.74378635]\n",
      " [-0.71213587]\n",
      " [-0.68048538]\n",
      " [-0.6488349 ]\n",
      " [-0.61718442]\n",
      " [-0.58553393]\n",
      " [-0.55388345]\n",
      " [-0.52223297]\n",
      " [-0.49058248]\n",
      " [-0.458932  ]\n",
      " [-0.42728152]\n",
      " [-0.39563104]\n",
      " [-0.36398055]\n",
      " [-0.33233007]\n",
      " [-0.30067959]\n",
      " [-0.2690291 ]\n",
      " [-0.23737862]\n",
      " [-0.20572814]\n",
      " [-0.17407766]\n",
      " [-0.14242717]\n",
      " [-0.11077669]\n",
      " [-0.07912621]\n",
      " [-0.04747572]\n",
      " [-0.01582524]\n",
      " [ 0.01582524]\n",
      " [ 0.04747572]\n",
      " [ 0.07912621]\n",
      " [ 0.11077669]\n",
      " [ 0.14242717]\n",
      " [ 0.17407766]\n",
      " [ 0.20572814]\n",
      " [ 0.23737862]\n",
      " [ 0.2690291 ]\n",
      " [ 0.30067959]\n",
      " [ 0.33233007]\n",
      " [ 0.36398055]\n",
      " [ 0.39563104]\n",
      " [ 0.42728152]\n",
      " [ 0.458932  ]\n",
      " [ 0.49058248]\n",
      " [ 0.52223297]\n",
      " [ 0.55388345]\n",
      " [ 0.58553393]\n",
      " [ 0.61718442]\n",
      " [ 0.6488349 ]\n",
      " [ 0.68048538]\n",
      " [ 0.71213587]\n",
      " [ 0.74378635]\n",
      " [ 0.77543683]\n",
      " [ 0.80708731]\n",
      " [ 0.8387378 ]\n",
      " [ 0.87038828]\n",
      " [ 0.90203876]\n",
      " [ 0.93368925]\n",
      " [ 0.96533973]\n",
      " [ 0.99699021]\n",
      " [ 1.02864069]\n",
      " [ 1.06029118]\n",
      " [ 1.09194166]\n",
      " [ 1.12359214]\n",
      " [ 1.15524263]\n",
      " [ 1.18689311]\n",
      " [ 1.21854359]\n",
      " [ 1.25019407]\n",
      " [ 1.28184456]\n",
      " [ 1.31349504]\n",
      " [ 1.34514552]\n",
      " [ 1.37679601]\n",
      " [ 1.40844649]\n",
      " [ 1.44009697]\n",
      " [ 1.47174745]\n",
      " [ 1.50339794]\n",
      " [ 1.53504842]\n",
      " [ 1.5666989 ]]\n"
     ]
    }
   ],
   "source": [
    "import numpy as np\n",
    "from sklearn.preprocessing import StandardScaler\n",
    "\n",
    "# Generate training and validation sets\n",
    "X_train = np.linspace(0., 1., 10).reshape(-1, 1)  # Reshape to 2D array\n",
    "X_valid = np.linspace(0., 1., 100).reshape(-1, 1)  # Reshape to 2D array\n",
    "print(X_train)\n",
    "# Initialize the StandardScaler\n",
    "sc = StandardScaler()\n",
    "\n",
    "# Scale the training and validation sets\n",
    "XX_train = sc.fit_transform(X_train)\n",
    "XX_valid = sc.transform(X_valid)\n",
    "\n",
    "print(XX_train)\n",
    "print(XX_valid)"
   ]
  }
 ],
 "metadata": {
  "kernelspec": {
   "display_name": "Python 3",
   "language": "python",
   "name": "python3"
  },
  "language_info": {
   "codemirror_mode": {
    "name": "ipython",
    "version": 3
   },
   "file_extension": ".py",
   "mimetype": "text/x-python",
   "name": "python",
   "nbconvert_exporter": "python",
   "pygments_lexer": "ipython3",
   "version": "3.12.3"
  }
 },
 "nbformat": 4,
 "nbformat_minor": 2
}
