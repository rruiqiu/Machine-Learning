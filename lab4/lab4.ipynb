{
 "cells": [
  {
   "cell_type": "code",
   "execution_count": 18,
   "metadata": {},
   "outputs": [
    {
     "name": "stdout",
     "output_type": "stream",
     "text": [
      "torch.Size([60000, 28, 28]) torch.Size([10000, 28, 28])\n"
     ]
    }
   ],
   "source": [
    "from torchvision import datasets\n",
    "import numpy as np\n",
    "import torch\n",
    "import matplotlib.pyplot as plt\n",
    "np.random.seed(8681)\n",
    "torch.manual_seed(8681)\n",
    "\n",
    "train_dataset = datasets.FashionMNIST(root= './data', train=True,download=True)\n",
    "test_dataset = datasets.FashionMNIST(root= './data', train=False,download=True)\n",
    "\n",
    "print(train_dataset.data.shape, test_dataset.data.shape)\n"
   ]
  },
  {
   "cell_type": "code",
   "execution_count": 16,
   "metadata": {},
   "outputs": [],
   "source": [
    "num_classes = 10\n",
    "X_train = train_dataset.data.numpy().reshape(-1, 28 * 28).astype(\n",
    "'float32' ) / 255.0\n",
    "Y_train = train_dataset.targets.numpy()\n",
    "\n",
    "X_test = test_dataset.data.numpy().reshape(-1, 28 * 28).astype(\n",
    "'float32' ) / 255.0\n",
    "Y_test = test_dataset.targets.numpy()\n",
    "\n",
    "\n",
    "# Split the training set into train and validation sets (80% /20%)\n",
    "validation_size = int(0.2 * X_train.shape[0])\n",
    "X_validation, Y_validation = X_train[:validation_size], Y_train[:validation_size]\n",
    "X_train, Y_train = X_train[validation_size:], Y_train[validation_size:]\n",
    "\n"
   ]
  },
  {
   "cell_type": "code",
   "execution_count": 28,
   "metadata": {},
   "outputs": [
    {
     "name": "stdout",
     "output_type": "stream",
     "text": [
      "(784,)\n",
      "(48000, 784)\n",
      "[6 4 1 0 0 5 7 5 4 0]\n"
     ]
    },
    {
     "data": {
      "text/plain": [
       "<matplotlib.image.AxesImage at 0x2a37599edb0>"
      ]
     },
     "execution_count": 28,
     "metadata": {},
     "output_type": "execute_result"
    },
    {
     "data": {
      "image/png": "[encoded data removed]",
      "text/plain": [
       "<Figure size 640x480 with 1 Axes>"
      ]
     },
     "metadata": {
      "image/png": {
       "height": 413,
       "width": 417
      }
     },
     "output_type": "display_data"
    }
   ],
   "source": [
    "print(X_train[0].shape)\n",
    "print(X_train.shape)\n",
    "# print(Y_train_orig[:10])\n",
    "print(Y_train[:10])\n",
    "plt.imshow(X_train[10].reshape(28,28), cmap='Greys_r')\n"
   ]
  },
  {
   "cell_type": "code",
   "execution_count": 30,
   "metadata": {},
   "outputs": [],
   "source": [
    "# Save original labels before one-hot encoding\n",
    "Y_train_orig = Y_train\n",
    "Y_validation_orig = Y_validation\n",
    "Y_test_orig = Y_test\n",
    "# Convert labels to one-hot encoding for multi-class classification\n",
    "def one_hot_encode(labels, num_classes):\n",
    "  return np.eye(num_classes)[labels]\n",
    "\n",
    "Y_train = one_hot_encode(Y_train, num_classes)\n",
    "Y_validation = one_hot_encode(Y_validation, num_classes)\n",
    "Y_test = one_hot_encode(Y_test, num_classes)\n",
    "# Calculate the mean and standard deviation of the training features\n",
    "X_train_mean = X_train.mean(axis=0)\n",
    "X_train_std = X_train.std(axis=0)\n",
    "X_train_std[X_train_std == 0] = 1  # To avoid division by zero\n",
    "# Standardize all three subsets of data\n",
    "X_train = (X_train - X_train_mean) / X_train_std\n",
    "X_validation = (X_validation - X_train_mean) / X_train_std\n",
    "X_test = (X_test - X_train_mean) / X_train_std"
   ]
  },
  {
   "cell_type": "code",
   "execution_count": null,
   "metadata": {},
   "outputs": [
    {
     "name": "stdout",
     "output_type": "stream",
     "text": [
      "(48000, 784)\n",
      "(64, 784)\n"
     ]
    }
   ],
   "source": [
    "print(X_train.shape)\n",
    "# print(X_train[:10])\n",
    "# print(X_train[0])\n",
    "# plt.imshow(X_train[3].reshape(28,28), cmap='Greys_r')\n",
    "# print(X_train_mean)\n",
    "# print(X_train_std)\n",
    "\n",
    "batch_size = 64\n",
    "mini_batches = [X_train[i:i + batch_size] for i in range(0, X_train.shape[0], batch_size)]\n",
    "len(mini_batches), mini_batches[0].shape\n",
    "print(mini_batches[63].shape)\n",
    "\n",
    "\n",
    "\n"
   ]
  },
  {
   "cell_type": "code",
   "execution_count": null,
   "metadata": {},
   "outputs": [
    {
     "name": "stdout",
     "output_type": "stream",
     "text": [
      "(64, 784)\n",
      "(784,)\n"
     ]
    }
   ],
   "source": [
    "#experiment forward pass one sample first\n",
    "print(mini_batches[0].shape)\n",
    "print(X_train_mean.shape)\n",
    "#first hidden layer 128 units\n",
    "w_1 = np.random.uniform(-0.5, 0.5, 156)\n",
    "b_1 = np.zeros(156)\n",
    "\n",
    "\n",
    "\n",
    "#second hidden layer 64 units\n",
    "w_2 = np.random.uniform(-0.5, 0.5, 64)\n",
    "b_2 = np.zeros(64)\n",
    "#output layer 10 units\n"
   ]
  }
 ],
 "metadata": {
  "kernelspec": {
   "display_name": "Python 3",
   "language": "python",
   "name": "python3"
  },
  "language_info": {
   "codemirror_mode": {
    "name": "ipython",
    "version": 3
   },
   "file_extension": ".py",
   "mimetype": "text/x-python",
   "name": "python",
   "nbconvert_exporter": "python",
   "pygments_lexer": "ipython3",
   "version": "3.12.3"
  }
 },
 "nbformat": 4,
 "nbformat_minor": 2
}
