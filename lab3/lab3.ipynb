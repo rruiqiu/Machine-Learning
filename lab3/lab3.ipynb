{
 "cells": [
  {
   "cell_type": "code",
   "execution_count": null,
   "metadata": {},
   "outputs": [],
   "source": [
    "import matplotlib.pyplot as plt\n",
    "import numpy as np\n",
    "import random"
   ]
  },
  {
   "cell_type": "code",
   "execution_count": null,
   "metadata": {},
   "outputs": [],
   "source": [
    "file_name = r\"C:\\Users\\Richard\\Documents\\4SL4\\Machine-Learning\\lab3\\th.jpg\"\n",
    "image = plt.imread(file_name)\n",
    "print(image.shape)\n",
    "row_length = image.shape[0]\n",
    "col_length = image.shape[1]"
   ]
  },
  {
   "cell_type": "code",
   "execution_count": null,
   "metadata": {},
   "outputs": [],
   "source": [
    "#k\n",
    "k = 3\n",
    "random_rows = np.random.randint(0,row_length,size=(k,1))\n",
    "random_cols = np.random.randint(0,col_length,size=(k,1))\n",
    "random_arr = np.hstack([random_rows,random_cols])\n",
    "print(\"Random array indexes are:\")\n",
    "print(random_arr)\n",
    "for i in range(k):\n",
    "  print(\"Pixels are\")\n",
    "  print(image[random_arr[i][0]][random_arr[i][1]])\n",
    "\n"
   ]
  },
  {
   "cell_type": "code",
   "execution_count": null,
   "metadata": {},
   "outputs": [],
   "source": [
    "total_length = 0\n",
    "\n",
    "clusters = [[] for _ in range(k)]\n",
    "\n",
    "print(clusters)\n",
    "for i in range(row_length):\n",
    "  for j in range(col_length):\n",
    "    \n",
    "    total_length = total_length + 1\n",
    "    # print(image[i][j])\n",
    "    \n",
    "print(total_length)"
   ]
  }
 ],
 "metadata": {
  "kernelspec": {
   "display_name": "Python 3",
   "language": "python",
   "name": "python3"
  },
  "language_info": {
   "codemirror_mode": {
    "name": "ipython",
    "version": 3
   },
   "file_extension": ".py",
   "mimetype": "text/x-python",
   "name": "python",
   "nbconvert_exporter": "python",
   "pygments_lexer": "ipython3",
   "version": "3.12.3"
  }
 },
 "nbformat": 4,
 "nbformat_minor": 2
}
